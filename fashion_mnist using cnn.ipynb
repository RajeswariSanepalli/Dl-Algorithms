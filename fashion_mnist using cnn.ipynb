{
 "cells": [
  {
   "cell_type": "code",
   "execution_count": 1,
   "metadata": {},
   "outputs": [
    {
     "name": "stdout",
     "output_type": "stream",
     "text": [
      "Note: you may need to restart the kernel to use updated packages.\n"
     ]
    },
    {
     "name": "stderr",
     "output_type": "stream",
     "text": [
      "WARNING: Retrying (Retry(total=4, connect=None, read=None, redirect=None, status=None)) after connection broken by 'NewConnectionError('<pip._vendor.urllib3.connection.VerifiedHTTPSConnection object at 0x0000028B74EA1430>: Failed to establish a new connection: [Errno 11001] getaddrinfo failed')': /simple/tensorflow/\n",
      "WARNING: Retrying (Retry(total=3, connect=None, read=None, redirect=None, status=None)) after connection broken by 'NewConnectionError('<pip._vendor.urllib3.connection.VerifiedHTTPSConnection object at 0x0000028B74EA12B0>: Failed to establish a new connection: [Errno 11001] getaddrinfo failed')': /simple/tensorflow/\n",
      "WARNING: Retrying (Retry(total=2, connect=None, read=None, redirect=None, status=None)) after connection broken by 'NewConnectionError('<pip._vendor.urllib3.connection.VerifiedHTTPSConnection object at 0x0000028B74EA1040>: Failed to establish a new connection: [Errno 11001] getaddrinfo failed')': /simple/tensorflow/\n",
      "WARNING: Retrying (Retry(total=1, connect=None, read=None, redirect=None, status=None)) after connection broken by 'NewConnectionError('<pip._vendor.urllib3.connection.VerifiedHTTPSConnection object at 0x0000028B74E9EF40>: Failed to establish a new connection: [Errno 11001] getaddrinfo failed')': /simple/tensorflow/\n",
      "WARNING: Retrying (Retry(total=0, connect=None, read=None, redirect=None, status=None)) after connection broken by 'NewConnectionError('<pip._vendor.urllib3.connection.VerifiedHTTPSConnection object at 0x0000028B74E9ED90>: Failed to establish a new connection: [Errno 11001] getaddrinfo failed')': /simple/tensorflow/\n",
      "ERROR: Could not find a version that satisfies the requirement tensorflow (from versions: none)\n",
      "ERROR: No matching distribution found for tensorflow\n"
     ]
    }
   ],
   "source": [
    "pip install tensorflow"
   ]
  },
  {
   "cell_type": "code",
   "execution_count": 2,
   "metadata": {
    "id": "pmUlOBz_qexj"
   },
   "outputs": [
    {
     "ename": "ModuleNotFoundError",
     "evalue": "No module named 'tensorflow'",
     "output_type": "error",
     "traceback": [
      "\u001b[1;31m---------------------------------------------------------------------------\u001b[0m",
      "\u001b[1;31mModuleNotFoundError\u001b[0m                       Traceback (most recent call last)",
      "\u001b[1;32m<ipython-input-2-0dd4b4e6e406>\u001b[0m in \u001b[0;36m<module>\u001b[1;34m\u001b[0m\n\u001b[1;32m----> 1\u001b[1;33m \u001b[1;32mimport\u001b[0m \u001b[0mtensorflow\u001b[0m \u001b[1;32mas\u001b[0m \u001b[0mtf\u001b[0m\u001b[1;33m\u001b[0m\u001b[1;33m\u001b[0m\u001b[0m\n\u001b[0m\u001b[0;32m      2\u001b[0m \u001b[1;32mimport\u001b[0m \u001b[0mnumpy\u001b[0m \u001b[1;32mas\u001b[0m \u001b[0mnp\u001b[0m\u001b[1;33m\u001b[0m\u001b[1;33m\u001b[0m\u001b[0m\n\u001b[0;32m      3\u001b[0m \u001b[1;32mfrom\u001b[0m \u001b[0mtensorflow\u001b[0m\u001b[1;33m.\u001b[0m\u001b[0mkeras\u001b[0m\u001b[1;33m.\u001b[0m\u001b[0mmodels\u001b[0m \u001b[1;32mimport\u001b[0m \u001b[0mSequential\u001b[0m\u001b[1;33m\u001b[0m\u001b[1;33m\u001b[0m\u001b[0m\n\u001b[0;32m      4\u001b[0m \u001b[1;32mfrom\u001b[0m \u001b[0mtensorflow\u001b[0m\u001b[1;33m.\u001b[0m\u001b[0mkeras\u001b[0m\u001b[1;33m.\u001b[0m\u001b[0mlayers\u001b[0m \u001b[1;32mimport\u001b[0m \u001b[0mDense\u001b[0m\u001b[1;33m,\u001b[0m\u001b[0mConv2D\u001b[0m\u001b[1;33m,\u001b[0m\u001b[0mFlatten\u001b[0m\u001b[1;33m,\u001b[0m\u001b[0mMaxPooling2D\u001b[0m\u001b[1;33m\u001b[0m\u001b[1;33m\u001b[0m\u001b[0m\n\u001b[0;32m      5\u001b[0m \u001b[1;32mfrom\u001b[0m \u001b[0mtensorflow\u001b[0m\u001b[1;33m.\u001b[0m\u001b[0mkeras\u001b[0m\u001b[1;33m.\u001b[0m\u001b[0mdatasets\u001b[0m \u001b[1;32mimport\u001b[0m \u001b[0mfashion_mnist\u001b[0m\u001b[1;33m\u001b[0m\u001b[1;33m\u001b[0m\u001b[0m\n",
      "\u001b[1;31mModuleNotFoundError\u001b[0m: No module named 'tensorflow'"
     ]
    }
   ],
   "source": [
    "import tensorflow as tf\n",
    "import numpy as np\n",
    "from tensorflow.keras.models import Sequential\n",
    "from tensorflow.keras.layers import Dense,Conv2D,Flatten,MaxPooling2D\n",
    "from tensorflow.keras.datasets import fashion_mnist\n",
    "from sklearn.model_selection import train_test_split\n",
    "from keras.utils import np_utils\n",
    "import matplotlib.pyplot as plt\n"
   ]
  },
  {
   "cell_type": "code",
   "execution_count": null,
   "metadata": {
    "id": "cxMl5eFNuue5"
   },
   "outputs": [],
   "source": [
    "(x_train,y_train),(x_test,y_test) = fashion_mnist.load_data()"
   ]
  },
  {
   "cell_type": "code",
   "execution_count": null,
   "metadata": {
    "colab": {
     "base_uri": "https://localhost:8080/"
    },
    "executionInfo": {
     "elapsed": 3592,
     "status": "ok",
     "timestamp": 1611585087309,
     "user": {
      "displayName": "Raji Sanepalli",
      "photoUrl": "https://lh4.googleusercontent.com/-5qyA0tCI_s4/AAAAAAAAAAI/AAAAAAAAB7Y/l6Ve7npdP2A/s64/photo.jpg",
      "userId": "18235152431115727042"
     },
     "user_tz": -330
    },
    "id": "W-ljJ9DEv507",
    "outputId": "83d7ad90-fa9e-4126-e3fc-6818d39da220"
   },
   "outputs": [],
   "source": [
    "x_train.shape"
   ]
  },
  {
   "cell_type": "code",
   "execution_count": null,
   "metadata": {
    "colab": {
     "base_uri": "https://localhost:8080/"
    },
    "executionInfo": {
     "elapsed": 3575,
     "status": "ok",
     "timestamp": 1611585087311,
     "user": {
      "displayName": "Raji Sanepalli",
      "photoUrl": "https://lh4.googleusercontent.com/-5qyA0tCI_s4/AAAAAAAAAAI/AAAAAAAAB7Y/l6Ve7npdP2A/s64/photo.jpg",
      "userId": "18235152431115727042"
     },
     "user_tz": -330
    },
    "id": "gG0K5jsc8Okw",
    "outputId": "68b08705-3f5c-47dd-e9f0-43c83c34946e"
   },
   "outputs": [],
   "source": [
    "\n",
    "print(x_test.shape)\n",
    "print(y_train.shape)"
   ]
  },
  {
   "cell_type": "code",
   "execution_count": null,
   "metadata": {
    "colab": {
     "base_uri": "https://localhost:8080/"
    },
    "executionInfo": {
     "elapsed": 3555,
     "status": "ok",
     "timestamp": 1611585087313,
     "user": {
      "displayName": "Raji Sanepalli",
      "photoUrl": "https://lh4.googleusercontent.com/-5qyA0tCI_s4/AAAAAAAAAAI/AAAAAAAAB7Y/l6Ve7npdP2A/s64/photo.jpg",
      "userId": "18235152431115727042"
     },
     "user_tz": -330
    },
    "id": "OOnAtb8D8XLE",
    "outputId": "9873854c-1004-4381-a380-3e8da2800f93"
   },
   "outputs": [],
   "source": [
    "x_train[3]"
   ]
  },
  {
   "cell_type": "code",
   "execution_count": null,
   "metadata": {
    "colab": {
     "base_uri": "https://localhost:8080/",
     "height": 1000
    },
    "executionInfo": {
     "elapsed": 5577,
     "status": "ok",
     "timestamp": 1611585089357,
     "user": {
      "displayName": "Raji Sanepalli",
      "photoUrl": "https://lh4.googleusercontent.com/-5qyA0tCI_s4/AAAAAAAAAAI/AAAAAAAAB7Y/l6Ve7npdP2A/s64/photo.jpg",
      "userId": "18235152431115727042"
     },
     "user_tz": -330
    },
    "id": "IiL3c6UjwS8C",
    "outputId": "bb20c5d0-ed1e-4d2c-ec89-d03257ef4f2e"
   },
   "outputs": [],
   "source": [
    "for i in range(10):\n",
    "  plt.imshow(x_train[i],cmap = 'gray')\n",
    "  plt.show()"
   ]
  },
  {
   "cell_type": "code",
   "execution_count": null,
   "metadata": {
    "colab": {
     "base_uri": "https://localhost:8080/"
    },
    "executionInfo": {
     "elapsed": 5559,
     "status": "ok",
     "timestamp": 1611585089359,
     "user": {
      "displayName": "Raji Sanepalli",
      "photoUrl": "https://lh4.googleusercontent.com/-5qyA0tCI_s4/AAAAAAAAAAI/AAAAAAAAB7Y/l6Ve7npdP2A/s64/photo.jpg",
      "userId": "18235152431115727042"
     },
     "user_tz": -330
    },
    "id": "N3Lad_k5wBxe",
    "outputId": "4c718efc-b671-449c-9956-5ca1f83e086a"
   },
   "outputs": [],
   "source": [
    "np.unique(y_train)"
   ]
  },
  {
   "cell_type": "code",
   "execution_count": null,
   "metadata": {
    "id": "-eJn8h8HwL7M"
   },
   "outputs": [],
   "source": [
    "#normalize our dataset\n",
    "x_train=x_train/255\n",
    "x_test=x_test/255"
   ]
  },
  {
   "cell_type": "code",
   "execution_count": null,
   "metadata": {
    "colab": {
     "base_uri": "https://localhost:8080/"
    },
    "executionInfo": {
     "elapsed": 5533,
     "status": "ok",
     "timestamp": 1611585089363,
     "user": {
      "displayName": "Raji Sanepalli",
      "photoUrl": "https://lh4.googleusercontent.com/-5qyA0tCI_s4/AAAAAAAAAAI/AAAAAAAAB7Y/l6Ve7npdP2A/s64/photo.jpg",
      "userId": "18235152431115727042"
     },
     "user_tz": -330
    },
    "id": "JZy9c9EEy4KG",
    "outputId": "33d32f21-f046-48d1-b21b-034c083aa6bb"
   },
   "outputs": [],
   "source": [
    "x_train[3]"
   ]
  },
  {
   "cell_type": "code",
   "execution_count": null,
   "metadata": {
    "id": "1sTAOrRtwtya"
   },
   "outputs": [],
   "source": [
    "y_train=np_utils.to_categorical(y_train,10)\n",
    "y_test=np_utils.to_categorical(y_test,10)"
   ]
  },
  {
   "cell_type": "code",
   "execution_count": null,
   "metadata": {
    "id": "yMKNwCwHzDB9"
   },
   "outputs": [],
   "source": [
    "x_train=x_train.reshape(x_train.shape[0],28,28,1)\n",
    "x_test=x_test.reshape(x_test.shape[0],28,28,1)\n"
   ]
  },
  {
   "cell_type": "code",
   "execution_count": null,
   "metadata": {
    "colab": {
     "base_uri": "https://localhost:8080/"
    },
    "executionInfo": {
     "elapsed": 5485,
     "status": "ok",
     "timestamp": 1611585089372,
     "user": {
      "displayName": "Raji Sanepalli",
      "photoUrl": "https://lh4.googleusercontent.com/-5qyA0tCI_s4/AAAAAAAAAAI/AAAAAAAAB7Y/l6Ve7npdP2A/s64/photo.jpg",
      "userId": "18235152431115727042"
     },
     "user_tz": -330
    },
    "id": "iPjwcjo2xK4J",
    "outputId": "6a20430d-f6a0-4705-8d91-5560dea3d74c"
   },
   "outputs": [],
   "source": [
    "y_train[3]"
   ]
  },
  {
   "cell_type": "code",
   "execution_count": null,
   "metadata": {
    "id": "Tll4bipYxY3A"
   },
   "outputs": [],
   "source": [
    "model=Sequential()"
   ]
  },
  {
   "cell_type": "code",
   "execution_count": null,
   "metadata": {
    "id": "R71-F8vYxmet"
   },
   "outputs": [],
   "source": [
    "model.add(Conv2D(32,(3,3),activation='relu',input_shape=(28,28,1)))\n",
    "model.add(MaxPooling2D(2,2))\n",
    "model.add(Flatten())\n",
    "model.add(Dense(32,activation='relu'))\n",
    "model.add(Dense(32,activation='relu'))\n",
    "model.add(Dense(10,activation='softmax'))"
   ]
  },
  {
   "cell_type": "code",
   "execution_count": null,
   "metadata": {
    "colab": {
     "base_uri": "https://localhost:8080/"
    },
    "executionInfo": {
     "elapsed": 5462,
     "status": "ok",
     "timestamp": 1611585089377,
     "user": {
      "displayName": "Raji Sanepalli",
      "photoUrl": "https://lh4.googleusercontent.com/-5qyA0tCI_s4/AAAAAAAAAAI/AAAAAAAAB7Y/l6Ve7npdP2A/s64/photo.jpg",
      "userId": "18235152431115727042"
     },
     "user_tz": -330
    },
    "id": "fgzzhIrGyqC-",
    "outputId": "2ca9ec28-5606-47b2-ea37-7da984f6b68c"
   },
   "outputs": [],
   "source": [
    "model.summary()\n"
   ]
  },
  {
   "cell_type": "code",
   "execution_count": null,
   "metadata": {
    "id": "gSl2-Or32r3V"
   },
   "outputs": [],
   "source": [
    "model.compile(loss='categorical_crossentropy',optimizer=\"adam\",metrics='accuracy')"
   ]
  },
  {
   "cell_type": "code",
   "execution_count": null,
   "metadata": {
    "colab": {
     "base_uri": "https://localhost:8080/"
    },
    "executionInfo": {
     "elapsed": 196686,
     "status": "ok",
     "timestamp": 1611585280615,
     "user": {
      "displayName": "Raji Sanepalli",
      "photoUrl": "https://lh4.googleusercontent.com/-5qyA0tCI_s4/AAAAAAAAAAI/AAAAAAAAB7Y/l6Ve7npdP2A/s64/photo.jpg",
      "userId": "18235152431115727042"
     },
     "user_tz": -330
    },
    "id": "SDSpZgol2ryt",
    "outputId": "9d390ced-cf1a-4101-82d8-d8f110e72b56"
   },
   "outputs": [],
   "source": [
    "\n",
    "history = model.fit(x_train,y_train,batch_size = 200, epochs = 10)"
   ]
  },
  {
   "cell_type": "code",
   "execution_count": null,
   "metadata": {
    "colab": {
     "base_uri": "https://localhost:8080/"
    },
    "executionInfo": {
     "elapsed": 197611,
     "status": "ok",
     "timestamp": 1611585281552,
     "user": {
      "displayName": "Raji Sanepalli",
      "photoUrl": "https://lh4.googleusercontent.com/-5qyA0tCI_s4/AAAAAAAAAAI/AAAAAAAAB7Y/l6Ve7npdP2A/s64/photo.jpg",
      "userId": "18235152431115727042"
     },
     "user_tz": -330
    },
    "id": "iR79T1NG2mKn",
    "outputId": "bf9744b7-ff96-494b-8420-469704475abc"
   },
   "outputs": [],
   "source": [
    "c"
   ]
  },
  {
   "cell_type": "code",
   "execution_count": null,
   "metadata": {
    "colab": {
     "base_uri": "https://localhost:8080/",
     "height": 282
    },
    "executionInfo": {
     "elapsed": 2067,
     "status": "ok",
     "timestamp": 1611585316218,
     "user": {
      "displayName": "Raji Sanepalli",
      "photoUrl": "https://lh4.googleusercontent.com/-5qyA0tCI_s4/AAAAAAAAAAI/AAAAAAAAB7Y/l6Ve7npdP2A/s64/photo.jpg",
      "userId": "18235152431115727042"
     },
     "user_tz": -330
    },
    "id": "43jgr1fFzsc8",
    "outputId": "be1acddc-dda1-4e8f-b5a7-c568263f91f1"
   },
   "outputs": [],
   "source": [
    "plt.plot(history.history['accuracy'])"
   ]
  },
  {
   "cell_type": "code",
   "execution_count": null,
   "metadata": {
    "id": "FDPRsO9P4CAn"
   },
   "outputs": [],
   "source": [
    "prediction=model.predict(x_test)"
   ]
  },
  {
   "cell_type": "code",
   "execution_count": null,
   "metadata": {
    "colab": {
     "base_uri": "https://localhost:8080/"
    },
    "executionInfo": {
     "elapsed": 1783,
     "status": "ok",
     "timestamp": 1611585366008,
     "user": {
      "displayName": "Raji Sanepalli",
      "photoUrl": "https://lh4.googleusercontent.com/-5qyA0tCI_s4/AAAAAAAAAAI/AAAAAAAAB7Y/l6Ve7npdP2A/s64/photo.jpg",
      "userId": "18235152431115727042"
     },
     "user_tz": -330
    },
    "id": "_Kksstc-4suu",
    "outputId": "1c6a467f-3b24-4268-cfdd-e2ae319109d6"
   },
   "outputs": [],
   "source": [
    "print(np.argmax(np.round(prediction[550])))"
   ]
  },
  {
   "cell_type": "code",
   "execution_count": null,
   "metadata": {
    "colab": {
     "base_uri": "https://localhost:8080/",
     "height": 265
    },
    "executionInfo": {
     "elapsed": 1009,
     "status": "ok",
     "timestamp": 1611585344967,
     "user": {
      "displayName": "Raji Sanepalli",
      "photoUrl": "https://lh4.googleusercontent.com/-5qyA0tCI_s4/AAAAAAAAAAI/AAAAAAAAB7Y/l6Ve7npdP2A/s64/photo.jpg",
      "userId": "18235152431115727042"
     },
     "user_tz": -330
    },
    "id": "bGDhyZ5C48MD",
    "outputId": "52ddba7a-c834-4d20-db37-adf2f56d535b"
   },
   "outputs": [],
   "source": [
    "\n",
    "plt.imshow(x_test[550].reshape(28,28),cmap = 'gray')\n",
    "plt.show()"
   ]
  },
  {
   "cell_type": "code",
   "execution_count": null,
   "metadata": {
    "id": "nPQMIyNv-NFD"
   },
   "outputs": [],
   "source": []
  }
 ],
 "metadata": {
  "colab": {
   "authorship_tag": "ABX9TyPsfXbu7IMKzNyPnaSrvRbw",
   "name": "fashion_mnist using cnn.ipynb",
   "provenance": []
  },
  "kernelspec": {
   "display_name": "Python 3",
   "language": "python",
   "name": "python3"
  },
  "language_info": {
   "codemirror_mode": {
    "name": "ipython",
    "version": 3
   },
   "file_extension": ".py",
   "mimetype": "text/x-python",
   "name": "python",
   "nbconvert_exporter": "python",
   "pygments_lexer": "ipython3",
   "version": "3.8.3"
  }
 },
 "nbformat": 4,
 "nbformat_minor": 1
}
